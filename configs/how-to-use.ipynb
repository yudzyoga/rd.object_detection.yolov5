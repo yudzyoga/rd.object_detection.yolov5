{
 "cells": [
  {
   "cell_type": "markdown",
   "id": "878a5e95",
   "metadata": {},
   "source": [
    "<img src=\"https://user-images.githubusercontent.com/26833433/98702494-b71c4e80-237a-11eb-87ed-17fcd6b3f066.jpg\">\n",
    "\n",
    "This notebook represents easy how-to-use steps in using Yolov5 Object Detection Algorithm. Make sure you followed all necessary steps below to run or to train your own model. "
   ]
  },
  {
   "cell_type": "markdown",
   "id": "5351ccb8",
   "metadata": {},
   "source": [
    "## 0. Initialization\n",
    "Before started the training process, make sure that the settings are completely changed according to you dataset preference (number of class, classes names, etc.). Please skip this step for inference purposes only"
   ]
  },
  {
   "cell_type": "markdown",
   "id": "a153ac6f",
   "metadata": {},
   "source": [
    "#### 0. 1. Configure Classes\n",
    "Configure class properties based on your needs. \n",
    "The helper function can help you to generate the .yaml file, just make sure by re-checking that everything is fine."
   ]
  },
  {
   "cell_type": "code",
   "execution_count": 1,
   "id": "8cfa29d3",
   "metadata": {},
   "outputs": [
    {
     "name": "stdout",
     "output_type": "stream",
     "text": [
      "Setup complete. Using torch 1.8.1 _CudaDeviceProperties(name='Quadro RTX 3000', major=7, minor=5, total_memory=5934MB, multi_processor_count=30)\n"
     ]
    }
   ],
   "source": [
    "import os\n",
    "from utils.helper import write_yaml, write_imagesets, read_classes\n",
    "import torch\n",
    "from IPython.display import Image, clear_output  # to display images\n",
    "\n",
    "clear_output()\n",
    "print('Setup complete. Using torch %s %s' % (torch.__version__, torch.cuda.get_device_properties(0) if torch.cuda.is_available() else 'CPU'))\n",
    "\n",
    "try:\n",
    "    os.remove(os.path.join(\".\", \"cups_dataset\", \"train.cache\")) # Remove cache file if existed\n",
    "    os.remove(os.path.join(\".\", \"cups_dataset\", \"val.cache\")) # Remove cache file if existed\n",
    "    os.remove(os.path.join(\".\", \"cups_dataset\", \"test.cache\")) # Remove cache file if existed\n",
    "except Exception:\n",
    "    pass\n",
    "\n",
    "# This value can be changed based on your model purposes. format -> ['a', 'b', 'c', etc.]\n",
    "classes = ['cups'] \n",
    "write_yaml(os.getcwd(), classes)"
   ]
  },
  {
   "cell_type": "code",
   "execution_count": 5,
   "id": "38aca1e4",
   "metadata": {},
   "outputs": [
    {
     "name": "stdout",
     "output_type": "stream",
     "text": [
      "# train and val data as 1) directory: path/images/, 2) file: path/images.txt, or 3) list: [path1/images/, path2/images/]\n",
      "train: cups_dataset/train\n",
      "val: cups_dataset/test\n",
      "test: cups_dataset/test\n",
      "\n",
      "# number of classes\n",
      "nc: 1\n",
      "\n",
      "# class names\n",
      "names: ['cups']"
     ]
    }
   ],
   "source": [
    "\"\"\"\n",
    "    Check custom.yaml\n",
    "    -----------------\n",
    "    Check custom.yaml for the training configuration.\n",
    "    The file should be filled with necessary configuration,\n",
    "    Especially for the training and validation directory.\n",
    "    Do not make any unnecessary change in this file.\n",
    "\"\"\"\n",
    "!cat ./data/custom.yaml "
   ]
  },
  {
   "cell_type": "markdown",
   "id": "723bf2cb",
   "metadata": {},
   "source": [
    "<img src=\".\\src\\models_prop.jpg\">\n"
   ]
  },
  {
   "cell_type": "code",
   "execution_count": 9,
   "id": "005e86e5",
   "metadata": {},
   "outputs": [],
   "source": [
    "\"\"\"\n",
    "    Check models (.yaml) configuration\n",
    "    --------------------------\n",
    "    Change the .yaml configuration of your pretrained checkpoints model yolov5(s|m|l|x).yaml. \n",
    "    Make sure to change the 'number of classes' in the top of the file based on your classes classification.\n",
    "    Change one of the choice (s|m|l|x) based on your needs with number of params in the table above.\n",
    "    More params means the better Average Precision (AP), but slower speed.\n",
    "    The pre-trained model will be automaticaclly downloaded from YOLOv5 server.\n",
    "\"\"\"\n",
    "!cat ./models/yolov5l_custom.yaml"
   ]
  },
  {
   "cell_type": "markdown",
   "id": "32e3814d",
   "metadata": {},
   "source": [
    "### 1. Train\n",
    "This line directly execure the train.py to train the model. Just use the necessary option of commands from the list below"
   ]
  },
  {
   "cell_type": "code",
   "execution_count": null,
   "id": "c78833dd",
   "metadata": {
    "scrolled": true
   },
   "outputs": [],
   "source": [
    "\"\"\"\n",
    "    --(Arguments) (Default value) --- (Description) : \n",
    "    -------------------------------------------------\n",
    "    --weights yolov5s.pt ------------ initial weights path\n",
    "    --cfg '' ------------------------ model.yaml path\n",
    "    --data data/coco128.yaml -------- data.yaml path\n",
    "    --hyp data/hyp.scratch.yaml ----- hyperparameters path\n",
    "    --epochs 300 -------------------- number of epochs\n",
    "    --batch-size 16 ----------------- total batch size for all GPUs\n",
    "    --img-size 640 ------------------ train/test image sizes\n",
    "    --nosave ------------------------ only save final checkpoint\n",
    "    --notest ------------------------ only test final epoch\n",
    "    --noautoanchor ------------------ disable autoanchor check\n",
    "    --evolve ------------------------ evolve hyperparameters\n",
    "    --cache-images ------------------ cache images for faster training\n",
    "    --image-weights ----------------- use weighted image selection for training\n",
    "    --device '' --------------------- cuda device, i.e. 0 or 0,1,2,3 or cpu\n",
    "    --project runs/train ------------ save to project/name\n",
    "    --name exp ---------------------- save to project/name\n",
    "\"\"\" \n",
    "!python train.py --data ./data/custom.yaml --cfg ./models/yolov5l_custom.yaml --epochs 4 --batch-size 4 --weights yolov5l6.pt --device 0"
   ]
  },
  {
   "cell_type": "markdown",
   "id": "2e09b981",
   "metadata": {},
   "source": [
    "### 2. Inference\n",
    "This part can be separated from the part 1. Train, because this can be used anytime as long as you have the trained models"
   ]
  },
  {
   "cell_type": "code",
   "execution_count": null,
   "id": "f35dddab",
   "metadata": {},
   "outputs": [],
   "source": [
    "\"\"\"\n",
    "    --(Arguments) (Default value) --- (Description) : \n",
    "    -------------------------------------------------\n",
    "    --weights yolov5s.pt ------------ model.pt path(s)\n",
    "    --source data/images ------------ source. image/video/folder, 0 for webcam\n",
    "    --img-size 640 ------------------ inference size (pixels)\n",
    "    --conf-thres 0.25 --------------- object confidence threshold\n",
    "    --iou-thres 0.45 ---------------- IOU threshold for NMS\n",
    "    --device '' --------------------- cuda device, i.e. 0 or 0,1,2,3 or cpu\n",
    "    --view-img ---------------------- display results\n",
    "    --save-txt ---------------------- save results to *.txt\n",
    "    --save-conf --------------------- save confidences in --save-txt labels\n",
    "    --classes ----------------------- filter by class: --class 0, or --class 0 2 3\n",
    "    --agnostic-nms ------------------ class-agnostic NMS\n",
    "    --project runs/detect ----------- parent of testing dir. save results to project/name\n",
    "    --name exp ---------------------- testing dir. save results to project/name\n",
    "\"\"\" \n",
    "!python detect.py --source .\\data\\media\\cups.mp4 --weights .\\runs\\train\\exp15\\weights\\best.pt --conf 0.5 --device 0\n",
    "# Image(filename='runs\\detect\\exp9\\{}.jpg'.format(\"00000000\"), width=600)"
   ]
  },
  {
   "cell_type": "code",
   "execution_count": null,
   "id": "2f219538",
   "metadata": {},
   "outputs": [],
   "source": []
  }
 ],
 "metadata": {
  "kernelspec": {
   "display_name": "Python 3",
   "language": "python",
   "name": "python3"
  },
  "language_info": {
   "codemirror_mode": {
    "name": "ipython",
    "version": 3
   },
   "file_extension": ".py",
   "mimetype": "text/x-python",
   "name": "python",
   "nbconvert_exporter": "python",
   "pygments_lexer": "ipython3",
   "version": "3.8.8"
  }
 },
 "nbformat": 4,
 "nbformat_minor": 5
}
